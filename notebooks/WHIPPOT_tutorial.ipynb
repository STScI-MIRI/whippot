{
 "cells": [
  {
   "cell_type": "markdown",
   "id": "75cdef04-8805-485c-9188-735257bfa252",
   "metadata": {},
   "source": [
    "# WHIPPOT Tutorial\n",
    "\n",
    "Author: Jonathan Aguilar (jaguilar@stsci.edu)\n",
    "\n",
    "This notebook provides a general user interface for computing the offset values required in APT to perform TA in some some target and the placing some *other* target on the reference position of the aperture. The user provides the RA and Dec coordinates for the target acquisition (ACQ) star and science (SCI) star, and a telescope roll angle. These tools will then compute a) the \"Special Requirment Offset\" X and Y values needed to place the SCI star at the reference position, and b) the final coordinates of the SCI and ACQ stars. Coordinates are given in IDL (https://jwst-docs.stsci.edu/jwst-observatory-hardware/jwst-target-observability-and-observatory-coordinate-system/jwst-instrument-ideal-coordinate-systems#gsc.tab=0). If there is no separate ACQ star (i.e., self-TA), or if TA is not involved, \n",
    "\n",
    "The user can also provide a list of extra targets in the field in the format specified below, and their IDL coordinates will also be computed. As such, this notebook is useful not just for planning target acquisition, but also for predicting to high precision the final positions of astronomical bodies in the field of view.\n",
    "\n",
    "## Setup ##\n",
    "\n",
    "- With installing the module:\n",
    "  1. Navigate in a terminal to the directory where you have downloaded the module. This should contain the `setup.py` file.\n",
    "  2. Activate your desired python environment.\n",
    "  3. Run `pip install .` (if you plan to make your own modifications, use `pip install -e .`)\n",
    "  4. Copy this notebook to your working directory, and run your jupyter kernel in the appropriate environment.\n",
    "- Without installing the module:\n",
    "  1. Copy this notebook and `whippot_tools.py` to your working directory.\n",
    "  2. In the cell below, change `from whippot import whippot_tools` to `import whippot_tools`\n",
    "  3. Open the notebook as you normally would. The following python modules must be installed in the working enviroment:\n",
    "     -  `ipywidgets`\n",
    "     - `numpy`\n",
    "     - `matplotlib`\n",
    "     - `astropy`\n",
    "     - `pysiaf`\n"
   ]
  },
  {
   "cell_type": "code",
   "execution_count": 23,
   "id": "3182815f-9d65-4d52-a68a-d92bff740eec",
   "metadata": {},
   "outputs": [
    {
     "name": "stdout",
     "output_type": "stream",
     "text": [
      "The autoreload extension is already loaded. To reload it, use:\n",
      "  %reload_ext autoreload\n"
     ]
    }
   ],
   "source": [
    "# for development purposes\n",
    "%load_ext autoreload\n",
    "%autoreload 2"
   ]
  },
  {
   "cell_type": "code",
   "execution_count": 24,
   "id": "6b1fafef-6bdf-4db9-81bf-ea0038e23fb2",
   "metadata": {},
   "outputs": [],
   "source": [
    "# for your system, choose an appropriate plotting backend to make pop-up window plots\n",
    "# (currently, inline plots show up in the log but not directly in the notebook).\n",
    "# %matplotlib osx throws an error if you run it first, so do inline first.\n",
    "%matplotlib inline\n",
    "%matplotlib osx"
   ]
  },
  {
   "cell_type": "code",
   "execution_count": 25,
   "id": "a253e374-69e3-4186-bc15-aa246d78f61f",
   "metadata": {},
   "outputs": [],
   "source": [
    "from whippot import whippot_tools"
   ]
  },
  {
   "cell_type": "markdown",
   "id": "1e0a70bb-43f2-4e35-9c6a-76ab0666120b",
   "metadata": {},
   "source": [
    "## Usage\n",
    "\n",
    "1. Run the cell below, which will generate an interactive widget in the output space.\n",
    "2. Select your instrument and science aperture from the drop-down menus.\n",
    "   - An \"aperture\" is a region of the telescope that can be used for pointing. This terminology is adapted from the Science Instrument Aperture File (SIAF)\n",
    "     - This technical report is a useful, if incomplete, reference: https://www.stsci.edu/files/live/sites/www/files/home/jwst/documentation/technical-documents/_documents/JWST-STScI-007030.pdf\n",
    "   - The science aperture names can be a bit opaque, but you should be able to guess which one corresponds to your observation.\n",
    "   - If you have access to data that uses the subarray of interest, you can check the header for the \"APERNAME\" there and match it.\n",
    "   - ¡¡Warning!! There are *many* choices for apertures and their names can be opaque. If in doubt, speak with someone familiar with your instrument and the SIAF.\n",
    "4. Enter the RA and Dec coordinates of your acquisition and science targets.\n",
    "   - the frame must be 'ICRS'\n",
    "   - the units must be in decimal degrees\n",
    "5. Enter the PA angle of the V3 axis of the telescope at the instrument reference point.\n",
    "   - In APT, this corresponds to the \"Specify PA range using V3PA\" option under Special Requirements.\n",
    "   - This angle is given in data headers as \"ROLL_REF\"\n",
    "6. If you wish to know the positions of other stars in the field of view, you can enter them in the \"Other stars\" box\n",
    "   - The format is `label: (ra, dec)` where `ra` and `dec` are given in decimal degrees\n",
    "   - There is currently no error checking for formatting; you will just make it crash/get a wrong answer\n",
    "   - For multi-line entries, you may need to type them elsewhere and they copy-paste the list into the box\n",
    "7. Press \"Compute offset\" to get the offsets to enter into APT (you may need to press it twice).\n",
    "   - You will also get the positions in IDL coordinates of all the stars before and after the slew.\n",
    "   - For same-target TA, a hack is to enter the same position for the ACQ and SCI target. In the examples below that use an initialization dictionary, omitting `acq_ra` and `acq_dec` fields will cause this to be done automatically.\n"
   ]
  },
  {
   "cell_type": "markdown",
   "id": "eefc27e5-0d9c-4815-ac74-7f5f17beac9f",
   "metadata": {},
   "source": [
    "## Initialization with default values"
   ]
  },
  {
   "cell_type": "markdown",
   "id": "835f5350-dff3-453c-a6df-5ac7d335240d",
   "metadata": {},
   "source": [
    "Run the cell below to initialize the gui. \n",
    "- In the Instrument menu, select MIRI\n",
    "- In the Aperture menu, select MIRIM_MASK1550 (the 15-um coronagraph)\n",
    "- Set ACQ RA and Dec to (1.01, 0.99)\n",
    "- Set SCI RA and Dec to (1, 1).\n",
    "- Then, copy the lines below and paste them into the `Other stars` box, as an example:\n",
    "```\n",
    "a: (1.001, 1.002)\n",
    "b: (1.002, 1.003)\n",
    "c: (1.003, 1.004)\n",
    "```"
   ]
  },
  {
   "cell_type": "code",
   "execution_count": 26,
   "id": "c61c9ced-d1b2-4b70-83f3-b4e304fa0a28",
   "metadata": {},
   "outputs": [
    {
     "data": {
      "application/vnd.jupyter.widget-view+json": {
       "model_id": "3a3b51e14503455db8b61bbf0b9d37f4",
       "version_major": 2,
       "version_minor": 0
      },
      "text/plain": [
       "VBox(children=(GridspecLayout(children=(Label(value='IDL COORDINATE AND OFFSET TA CALCULATOR', layout=Layout(d…"
      ]
     },
     "execution_count": 26,
     "metadata": {},
     "output_type": "execute_result"
    }
   ],
   "source": [
    "# create the ComputeOffsets object and start the UI with default initialization.\n",
    "cp1 = whippot_tools.ComputePositions()\n",
    "# to display the user interface, just do this:\n",
    "cp1.ui\n",
    "# Note: the footprint tools don't do a good job handling apertures that span RA = 0"
   ]
  },
  {
   "cell_type": "markdown",
   "id": "cf617397-a693-450e-b956-e972b71b7836",
   "metadata": {},
   "source": [
    "Press \"Compute positions\" to get the coordinates of the targets. Then press \"Plot scenes\" to visualize them."
   ]
  },
  {
   "cell_type": "markdown",
   "id": "04a0965f-4e0c-4aa9-9858-3fe97073c3b7",
   "metadata": {},
   "source": [
    "You can access the IDL coordinates from the object to use them programatically:"
   ]
  },
  {
   "cell_type": "code",
   "execution_count": 27,
   "id": "500d1803-47e8-44d9-915b-fd5c847e5ddf",
   "metadata": {},
   "outputs": [
    {
     "data": {
      "text/plain": [
       "{'SCI': array([0., 0.])}"
      ]
     },
     "execution_count": 27,
     "metadata": {},
     "output_type": "execute_result"
    }
   ],
   "source": [
    "# This dictionary stores the coordinates *after* TA but *before* the slew to the reference position\n",
    "cp1.idl_coords_after_ta"
   ]
  },
  {
   "cell_type": "code",
   "execution_count": 28,
   "id": "cfff4542-f2a3-49f9-896f-bfe94c046bd2",
   "metadata": {},
   "outputs": [
    {
     "data": {
      "text/plain": [
       "{'SCI': array([0., 0.])}"
      ]
     },
     "execution_count": 28,
     "metadata": {},
     "output_type": "execute_result"
    }
   ],
   "source": [
    "# This dictionary stores the coordinates *after* the slew to the reference position\n",
    "cp1.idl_coords_after_slew"
   ]
  },
  {
   "cell_type": "markdown",
   "id": "4ebab1eb-2445-4675-8bed-501f103fd552",
   "metadata": {},
   "source": [
    "## Initialization from a configuration dictionary\n",
    "\n",
    "Alternatively, one can provide a dictionary to pre-populate the fields of the interface. This is useful for repeatability/record keeping purposes. A non-empty dictionary will automatically trigger the output calculations, filling in default values for missing entries.\n",
    "\n",
    "As an example, let's use MIRI's 15.5 um coronagraph to do TA on a star at (90, 45) and then slew to another star that is (50 arcsec, 50 arcsec) away, with the telescope oriented at a V3_PA angle of 180 deg. There are two other stars of interest, labeled a and b, located at separations (-10 arcsec, +10 arcsec), and (+10 arcsec, -10 arcsec), respectively, from the SCI star"
   ]
  },
  {
   "cell_type": "markdown",
   "id": "89911de7-d5e7-407e-98fe-89e221954b96",
   "metadata": {},
   "source": [
    "**<span style=\"color:red\">WARNING</span>**: for each set of calculations, create a new \"ComputeOffsets\" object. Calling the same UI object again changes its values globally."
   ]
  },
  {
   "cell_type": "code",
   "execution_count": 43,
   "id": "1a4fa50c-d4ce-4bf1-b219-6f57bc8b8fd1",
   "metadata": {
    "scrolled": true
   },
   "outputs": [],
   "source": [
    "from astropy import units\n",
    "ACQ_pos = (90.0, 45)\n",
    "# the SCI target is ~(50, 50) arcsec away (50 arcsec ->. 0.0139 deg)\n",
    "SCI_pos = (90 + 0.014, 45 + 0.014)\n",
    "# the field stars are ~(-10, +10) and (+10, -10) arcsec away from the SCI star (10 arcsec -> 0.0028 deg)\n",
    "a_pos = (SCI_pos[0] - 0.003, SCI_pos[1] + 0.003)\n",
    "b_pos = (SCI_pos[0] + 0.003, SCI_pos[1] - 0.003)\n",
    "\n",
    "# populate the initialization dict with these values\n",
    "\n",
    "initial_values={\n",
    "    'instr': 'miri',\n",
    "    'sci_aper': 'mirim_coron1550', \n",
    "    'pa': 180.,\n",
    "    'acq_ra': ACQ_pos[0], 'acq_dec': ACQ_pos[1],\n",
    "    'sci_ra': SCI_pos[0], 'sci_dec': SCI_pos[1],\n",
    "    'exclude_roi' : False # coron1550 is defined as an ROI-type aperture\n",
    "}\n",
    "# add a multi-line string of the other stars\n",
    "initial_values['other_stars'] = f\"\"\"\n",
    "a: ({a_pos[0]}, {a_pos[1]})\n",
    "b: ({b_pos[0]}, {b_pos[1]})\n",
    "\"\"\""
   ]
  },
  {
   "cell_type": "code",
   "execution_count": 44,
   "id": "f2ed2038-32cf-4101-9d95-aefe3ed6078c",
   "metadata": {},
   "outputs": [
    {
     "data": {
      "application/vnd.jupyter.widget-view+json": {
       "model_id": "cbc4a4668d1c4a7e917fc533cd154c8d",
       "version_major": 2,
       "version_minor": 0
      },
      "text/plain": [
       "VBox(children=(GridspecLayout(children=(Label(value='IDL COORDINATE AND OFFSET TA CALCULATOR', layout=Layout(d…"
      ]
     },
     "execution_count": 44,
     "metadata": {},
     "output_type": "execute_result"
    }
   ],
   "source": [
    "cp2 = whippot_tools.ComputePositions(initial_values=initial_values)\n",
    "cp2.ui"
   ]
  },
  {
   "cell_type": "markdown",
   "id": "d7aa54f9-b7f7-4fca-8692-4848c3943d78",
   "metadata": {},
   "source": [
    "# Placing your target at the position of another star in the field\n",
    "\n",
    "This is useful for the case where you need to generate an off-axis reference PSF for a star in the field of view. Compute the IDL position of the star in the science scene, and the *negative* of that star's IDL positition to the `Offset X` and `Offset Y` values. For example, to place the target at the position of star `a = (-11.3071, -10.2835)`, you would enter the following Offset X and Y values.\n",
    "\n",
    "In the example below, we enter the `a` star's IDL position to the \"Final IDL X/Y\" fields, leaving everything else the same. This is equivalent to saying, \"At the end of all the TA, I want `a` to be at these coordinates.\". The \"Offset X/Y\" output will give the offsets required to place the target star at the position of `a`, which you will see in the confirmation plot."
   ]
  },
  {
   "cell_type": "code",
   "execution_count": 57,
   "id": "0aabcd0b-95da-4002-86e0-3b0395a6b92d",
   "metadata": {},
   "outputs": [
    {
     "data": {
      "application/vnd.jupyter.widget-view+json": {
       "model_id": "386b47694b75436dbf97ace691a7ab5b",
       "version_major": 2,
       "version_minor": 0
      },
      "text/plain": [
       "VBox(children=(GridspecLayout(children=(Label(value='IDL COORDINATE AND OFFSET TA CALCULATOR', layout=Layout(d…"
      ]
     },
     "execution_count": 57,
     "metadata": {},
     "output_type": "execute_result"
    }
   ],
   "source": [
    "# first, update the initialization dict with the offsets\n",
    "with_offset = {\n",
    "    'final_idl_x': cp2.idl_coords_after_slew['a'][0],\n",
    "    'final_idl_y': cp2.idl_coords_after_slew['a'][1]\n",
    "}\n",
    "# copy over the rest of the initial_values dictionary to the with_offset dictionary\n",
    "with_offset.update(initial_values)\n",
    "\n",
    "cp3 = whippot_tools.ComputePositions(initial_values=with_offset)\n",
    "cp3.ui"
   ]
  },
  {
   "cell_type": "markdown",
   "id": "353bb739-82eb-4c11-94d4-e1aba9fc323c",
   "metadata": {},
   "source": [
    "Compare the positions of the scene before and after the extra slew. You can see that the SCI target is now where 'a' was."
   ]
  },
  {
   "cell_type": "code",
   "execution_count": 46,
   "id": "68087dcb-70c7-4b4c-8e19-efa815224344",
   "metadata": {},
   "outputs": [
    {
     "data": {
      "text/plain": [
       "<matplotlib.legend.Legend at 0x137581550>"
      ]
     },
     "execution_count": 46,
     "metadata": {},
     "output_type": "execute_result"
    }
   ],
   "source": [
    "fig, ax = whippot_tools.plt.subplots(1, 1)\n",
    "ax.set_title(\"Placing SCI where A used to be\")\n",
    "ax.scatter([],[], marker='x', c='k', label='Before')\n",
    "ax.scatter([],[], marker='+', c='k', s=100, label='After')\n",
    "for star in cp2.idl_coords_after_slew.keys():\n",
    "    l = ax.scatter(\n",
    "        *cp2.idl_coords_after_slew[star],\n",
    "        marker='x', label=star,\n",
    "        zorder=-1\n",
    "    )\n",
    "    ax.scatter(\n",
    "        *cp3.idl_coords_after_slew[star],\n",
    "        marker='+', facecolor=l.get_facecolor(),\n",
    "        zorder=1, s=100,\n",
    "    )\n",
    "cp3.get_aper().plot(ax=ax, frame='idl', mark_ref=True, c='gray', fill=False)\n",
    "ax.legend()"
   ]
  },
  {
   "attachments": {},
   "cell_type": "markdown",
   "id": "22131e78-7acb-406f-92f2-810f4b50894e",
   "metadata": {},
   "source": [
    "## Running without the GUI\n",
    "\n",
    "The positions and plots can be generated directly from a script using the ComputePositions methods `compute_positions()` and `plot_scene()`. \n",
    "\n",
    "Computing parameters can be set by modifying entries in the `parameter_values` dictionary. "
   ]
  },
  {
   "cell_type": "code",
   "execution_count": 47,
   "id": "0736ea47-791b-4e07-aa60-021fd211d983",
   "metadata": {},
   "outputs": [],
   "source": [
    "cp4 = whippot_tools.ComputePositions(initial_values)\n",
    "cp4.compute_positions()"
   ]
  },
  {
   "cell_type": "code",
   "execution_count": 48,
   "id": "dd4c6258-1c8c-4da3-8cd0-128cbbf0e2d1",
   "metadata": {},
   "outputs": [
    {
     "data": {
      "text/plain": [
       "{'ACQ': array([-31.25404329,  53.22705256]),\n",
       " 'SCI': array([0., 0.]),\n",
       " 'a': array([ -8.51946777, -10.11668748]),\n",
       " 'b': array([ 8.52023937, 10.11633889])}"
      ]
     },
     "execution_count": 48,
     "metadata": {},
     "output_type": "execute_result"
    }
   ],
   "source": [
    "cp4.idl_coords_after_slew"
   ]
  },
  {
   "cell_type": "code",
   "execution_count": 49,
   "id": "13f64e5c-2712-4f3f-9c63-9dc5af69cce7",
   "metadata": {},
   "outputs": [],
   "source": [
    "# adjust the PA by 5 degrees\n",
    "cp4.parameter_values['pa'] = cp4.parameter_values['pa'] + 5"
   ]
  },
  {
   "cell_type": "code",
   "execution_count": 50,
   "id": "3a0d08d6-43e1-47ca-8ec0-53af5d67505b",
   "metadata": {},
   "outputs": [
    {
     "data": {
      "text/plain": [
       "{'ACQ': array([-26.49606058,  55.74847105]),\n",
       " 'SCI': array([0., 0.]),\n",
       " 'a': array([-9.36877882, -9.33567069]),\n",
       " 'b': array([9.36951696, 9.33525621])}"
      ]
     },
     "execution_count": 50,
     "metadata": {},
     "output_type": "execute_result"
    }
   ],
   "source": [
    "# we're setting the parameter dictionary directly, so don't read the widget state\n",
    "cp4.compute_positions(update_params_from_widgets=False)\n",
    "cp4.idl_coords_after_slew"
   ]
  },
  {
   "cell_type": "code",
   "execution_count": 51,
   "id": "90f89655-0bd3-4a87-bfc8-ed7ff9b7b9b7",
   "metadata": {},
   "outputs": [],
   "source": [
    "fig = cp4.plot_scene()"
   ]
  },
  {
   "cell_type": "markdown",
   "id": "9ba2e5d0-bd03-43aa-9f2c-fc196eaa37cc",
   "metadata": {},
   "source": [
    "## Extending functionality\n",
    "\n",
    "The `whippot_tools.ComputePositions()` class will work for any aperture on the telescope, but only conveys a minimum of information. The `modes` folder contains mode-specific modules that can be tailored to each observing mode - generally, for adding extra information to the plots such as coronagraphic masks or spectral traces. Typically this is done by subclassing `whippot_tools.ComputePositions` and wrapping the `plot_scenes()` method. In this way, the usage remains the same.\n",
    "\n",
    "An example: In `miri_lrs_slitless_tools.py`, we have extended the scene plots to show the spectral traces when using LRS Slitless spectroscopy."
   ]
  },
  {
   "cell_type": "code",
   "execution_count": 52,
   "id": "9f666191-7e25-4967-bcd0-9c416d2a66c1",
   "metadata": {},
   "outputs": [],
   "source": [
    "from whippot.modes import miri_lrs_slitless_tools as mlst"
   ]
  },
  {
   "cell_type": "code",
   "execution_count": 53,
   "id": "cfd18f32-7d56-45cb-ae71-8d537c9e3b0c",
   "metadata": {},
   "outputs": [
    {
     "data": {
      "application/vnd.jupyter.widget-view+json": {
       "model_id": "81afb0a350e24ae5bb7722b3607a5bae",
       "version_major": 2,
       "version_minor": 0
      },
      "text/plain": [
       "VBox(children=(GridspecLayout(children=(Label(value='IDL COORDINATE AND OFFSET TA CALCULATOR', layout=Layout(d…"
      ]
     },
     "execution_count": 53,
     "metadata": {},
     "output_type": "execute_result"
    }
   ],
   "source": [
    "# update the initialization dictionary to set the new aperture and remove the ACQ star (LRS slitless doesn't use TA)\n",
    "lrs_init = initial_values.copy()\n",
    "lrs_init.update({'acq_ra': lrs_init['sci_ra'], 'acq_dec': lrs_init['sci_dec']})\n",
    "lrs_init['sci_aper'] = 'mirim_slitlessprism'\n",
    "\n",
    "cp5 = mlst.ComputePositions(lrs_init)\n",
    "cp5.ui"
   ]
  },
  {
   "cell_type": "code",
   "execution_count": null,
   "id": "9a560abc-355e-4f86-bf06-ca73eb61aaed",
   "metadata": {},
   "outputs": [],
   "source": []
  },
  {
   "cell_type": "code",
   "execution_count": null,
   "id": "43bbd7fe-6c6d-4895-8544-9a826cf1d384",
   "metadata": {},
   "outputs": [],
   "source": []
  }
 ],
 "metadata": {
  "kernelspec": {
   "display_name": "Python [conda env:miri_coro_offsets]",
   "language": "python",
   "name": "conda-env-miri_coro_offsets-py"
  },
  "language_info": {
   "codemirror_mode": {
    "name": "ipython",
    "version": 3
   },
   "file_extension": ".py",
   "mimetype": "text/x-python",
   "name": "python",
   "nbconvert_exporter": "python",
   "pygments_lexer": "ipython3",
   "version": "3.11.11"
  }
 },
 "nbformat": 4,
 "nbformat_minor": 5
}
