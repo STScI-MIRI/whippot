{
 "cells": [
  {
   "cell_type": "markdown",
   "id": "75cdef04-8805-485c-9188-735257bfa252",
   "metadata": {},
   "source": [
    "# MIRI MRS Channel and slice plotting notebook\n",
    "\n",
    "Author: Jonathan Aguilar (jaguilar@stsci.edu)\n",
    "\n",
    "This notebook visualizes source placement for MRS observations, for a given orientation of the telescope. It shows the footprint of individual MRS slices within a given channel. For a more general introduction to WHIPPOT, see [WHIPPOT_tutorial](WHIPPOT_tutorial).\n",
    "\n",
    "This notebook was originally designed for observations that use target acquisition on one star and then manually command the slew to another. Generally, users planning without TA or with self-TA should use the same coordinates for their ACQ target as for their SCI target. \n",
    "\n",
    "The user provides the RA and Dec coordinates for the target acquisition (ACQ) star and science (SCI) star, and a telescope roll angle. These tools will then compute a) the \"Special Requirement Offset\" X and Y values needed to place the SCI star at the reference position, and b) the final coordinates of the SCI and ACQ stars. Coordinates are given in IDL (https://jwst-docs.stsci.edu/jwst-observatory-hardware/jwst-target-observability-and-observatory-coordinate-system/jwst-instrument-ideal-coordinate-systems#gsc.tab=0).\n",
    "\n",
    "The user can also provide a list of extra targets in the field in the format specified below, and their IDL coordinates will also be computed. As such, this notebook is useful not just for planning target acquisition, but also for predicting to high precision the final positions of astronomical bodies in the field of view.\n",
    "\n",
    "## Setup ##\n",
    "\n",
    "  1. Navigate in a terminal to the directory where you have downloaded the module. This should contain the `setup.py` file.\n",
    "  2. Activate your desired python environment.\n",
    "  3. Run `pip install .` (or `pip install -e.` for developing)\n",
    "  4. Copy this notebook to your working directory, and run your jupyter kernel in the appropriate environment."
   ]
  },
  {
   "cell_type": "code",
   "execution_count": 1,
   "id": "c4bdd04f-4a02-40d3-aa7c-c27d74c616b3",
   "metadata": {},
   "outputs": [],
   "source": [
    "# for development purposes\n",
    "%load_ext autoreload\n",
    "%autoreload 2"
   ]
  },
  {
   "cell_type": "code",
   "execution_count": 2,
   "id": "6b1fafef-6bdf-4db9-81bf-ea0038e23fb2",
   "metadata": {},
   "outputs": [],
   "source": [
    "# for your system, choose an appropriate plotting backend to make pop-up window plots\n",
    "# (currently, inline plots show up in the log but not directly in the notebook).\n",
    "# %matplotlib throws an error if you run it first, so do inline first.\n",
    "%matplotlib inline\n",
    "%matplotlib osx"
   ]
  },
  {
   "cell_type": "code",
   "execution_count": 3,
   "id": "a253e374-69e3-4186-bc15-aa246d78f61f",
   "metadata": {},
   "outputs": [
    {
     "name": "stderr",
     "output_type": "stream",
     "text": [
      "**WARNING**: LOCAL JWST PRD VERSION PRDOPSSOC-068 DOESN'T MATCH THE CURRENT ONLINE VERSION PRDOPSSOC-071\n",
      "Please consider updating pysiaf, e.g. pip install --upgrade pysiaf or conda update pysiaf\n"
     ]
    }
   ],
   "source": [
    "from whippot import whippot_tools\n",
    "# if the library is not installed replace the line above with the line below \n",
    "# when `whippot_tools.py` is in the same folder as the notebook\n",
    "# import whippot_tools"
   ]
  },
  {
   "cell_type": "markdown",
   "id": "2d42ebc7-1b81-4c7f-b609-e53f5d520473",
   "metadata": {},
   "source": [
    "## An example of a real field\n",
    "\n",
    "The source coordinates below are taken from a real commissioning activity, where we needed to check that the traces wouldn't overlap."
   ]
  },
  {
   "cell_type": "code",
   "execution_count": 32,
   "id": "134e920f-ac22-4d05-baee-eec9942a9e57",
   "metadata": {},
   "outputs": [],
   "source": [
    "# some \n",
    "sources = {\n",
    "    'SCI': whippot_tools.SkyCoord(\"05 24 20.7552 -70 05 1.60\", frame='icrs', unit=(\"hourangle\",\"degree\")),\n",
    "    'a': whippot_tools.SkyCoord(\"05 24 20.6552 -70 05 3.60\", frame='icrs', unit=(\"hourangle\",\"degree\")),\n",
    "}"
   ]
  },
  {
   "cell_type": "code",
   "execution_count": 33,
   "id": "6bac963d-276f-44c9-98f5-de0c6636b248",
   "metadata": {
    "scrolled": true
   },
   "outputs": [],
   "source": [
    "from astropy import units\n",
    "initial_values={\n",
    "    'instr': 'miri',\n",
    "    'sci_aper': 'mirifu_channel1a', \n",
    "    'pa': 290.,\n",
    "    'sci_ra': sources['SCI'].ra.deg, 'sci_dec': sources['SCI'].dec.deg,\n",
    "    'exclude_roi': False\n",
    "}\n",
    "# add a multi-line string of the other stars, copied from the cell above\n",
    "initial_values['other_stars'] = \"\\n\".join(f\"{k}: ({v.ra.deg}, {v.dec.deg})\" for k, v in sources.items() if k not in ['SCI'])"
   ]
  },
  {
   "cell_type": "markdown",
   "id": "cd61fb20-46aa-4480-9006-17eef6560b2c",
   "metadata": {},
   "source": [
    "## Use the MRS-specific ComputePositions class\n",
    "\n",
    "The ComputePositions class in `miri_mrs_tools.py` is a subclass of the general `ComputePositions` class that adds MRS-specific overlays to the plots."
   ]
  },
  {
   "cell_type": "code",
   "execution_count": 48,
   "id": "03fec089-e441-40bb-923c-b6277d786245",
   "metadata": {},
   "outputs": [],
   "source": [
    "from whippot.modes import miri_mrs_tools\n",
    "cp1 = miri_mrs_tools.ComputePositions(initial_values=initial_values)\n",
    "# cp1.ui\n",
    "fig = cp1.plot_scene()"
   ]
  },
  {
   "cell_type": "code",
   "execution_count": 35,
   "id": "fa034717-873f-4531-bf1b-35822fdc1a9b",
   "metadata": {},
   "outputs": [],
   "source": [
    "fig, ax = whippot_tools.plt.subplots(1, 1)\n",
    "whippot_tools.whippot_plots.draw_diffraction_spikes(ax, cp1.aperture)"
   ]
  },
  {
   "cell_type": "code",
   "execution_count": 41,
   "id": "335e4f0d-2c32-417f-bd9e-acb784947517",
   "metadata": {},
   "outputs": [
    {
     "data": {
      "text/plain": [
       "<matplotlib.legend.Legend at 0x313297dd0>"
      ]
     },
     "execution_count": 41,
     "metadata": {},
     "output_type": "execute_result"
    }
   ],
   "source": [
    "fig, ax = whippot_tools.plt.subplots(1, 1)\n",
    "for label, pos in cp1.idl_coords_after_slew.items():\n",
    "    ax.scatter(*pos, label=label)\n",
    "whippot_tools.whippot_plots.draw_diffraction_spikes(\n",
    "    ax, cp1.aperture, cp1.idl_coords_after_slew\n",
    ")\n",
    "ax.legend()"
   ]
  },
  {
   "cell_type": "code",
   "execution_count": null,
   "id": "9fa16916-9892-4d87-84bb-cd4c837bd142",
   "metadata": {},
   "outputs": [],
   "source": []
  }
 ],
 "metadata": {
  "kernelspec": {
   "display_name": "miri_coro_offsets",
   "language": "python",
   "name": "miri_coro_offsets"
  },
  "language_info": {
   "codemirror_mode": {
    "name": "ipython",
    "version": 3
   },
   "file_extension": ".py",
   "mimetype": "text/x-python",
   "name": "python",
   "nbconvert_exporter": "python",
   "pygments_lexer": "ipython3",
   "version": "3.11.11"
  }
 },
 "nbformat": 4,
 "nbformat_minor": 5
}
