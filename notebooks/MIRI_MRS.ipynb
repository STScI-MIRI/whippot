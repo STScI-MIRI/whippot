{
 "cells": [
  {
   "cell_type": "markdown",
   "id": "75cdef04-8805-485c-9188-735257bfa252",
   "metadata": {},
   "source": [
    "# MIRI MRS Channel and slice plotting notebook\n",
    "\n",
    "Author: Jonathan Aguilar (jaguilar@stsci.edu)\n",
    "\n",
    "This notebook visualizes the spectral traces for LRS Slitless observations, for a given orientation of the telescope (this is an early version, so the tools for trace visualization may evolve over time). For a more general introduction to WHIPPOT, see [WHIPPOT_tutorial](WHIPPOT_tutorial).\n",
    "\n",
    "This notebook was originally designed for observations that use target acquisition on one star and then slew to another. LRS Slitless does not need this, so users should use the same coordinates for their ACQ target as for their SCI target. \n",
    "\n",
    "The user provides the RA and Dec coordinates for the target acquisition (ACQ) star and science (SCI) star, and a telescope roll angle. These tools will then compute a) the \"Special Requirement Offset\" X and Y values needed to place the SCI star at the reference position, and b) the final coordinates of the SCI and ACQ stars. Coordinates are given in IDL (https://jwst-docs.stsci.edu/jwst-observatory-hardware/jwst-target-observability-and-observatory-coordinate-system/jwst-instrument-ideal-coordinate-systems#gsc.tab=0).\n",
    "\n",
    "The user can also provide a list of extra targets in the field in the format specified below, and their IDL coordinates will also be computed. As such, this notebook is useful not just for planning target acquisition, but also for predicting to high precision the final positions of astronomical bodies in the field of view.\n",
    "\n",
    "## Setup ##\n",
    "\n",
    "  1. Navigate in a terminal to the directory where you have downloaded the module. This should contain the `setup.py` file.\n",
    "  2. Activate your desired python environment.\n",
    "  3. Run `pip install .` (or `pip install -e.` for developing)\n",
    "  4. Copy this notebook to your working directory, and run your jupyter kernel in the appropriate environment."
   ]
  },
  {
   "cell_type": "code",
   "execution_count": 1,
   "id": "c4bdd04f-4a02-40d3-aa7c-c27d74c616b3",
   "metadata": {},
   "outputs": [],
   "source": [
    "# for development purposes\n",
    "%load_ext autoreload\n",
    "%autoreload 2"
   ]
  },
  {
   "cell_type": "code",
   "execution_count": 2,
   "id": "6b1fafef-6bdf-4db9-81bf-ea0038e23fb2",
   "metadata": {},
   "outputs": [],
   "source": [
    "# for your system, choose an appropriate plotting backend to make pop-up window plots\n",
    "# (currently, inline plots show up in the log but not directly in the notebook).\n",
    "# %matplotlib throws an error if you run it first, so do inline first.\n",
    "%matplotlib inline\n",
    "%matplotlib osx"
   ]
  },
  {
   "cell_type": "code",
   "execution_count": 3,
   "id": "a253e374-69e3-4186-bc15-aa246d78f61f",
   "metadata": {},
   "outputs": [
    {
     "name": "stderr",
     "output_type": "stream",
     "text": [
      "**WARNING**: LOCAL JWST PRD VERSION PRDOPSSOC-068 DOESN'T MATCH THE CURRENT ONLINE VERSION PRDOPSSOC-071\n",
      "Please consider updating pysiaf, e.g. pip install --upgrade pysiaf or conda update pysiaf\n"
     ]
    }
   ],
   "source": [
    "from whippot import whippot_tools\n",
    "# if the library is not installed replace the line above with the line below \n",
    "# when `whippot_tools.py` is in the same folder as the notebook\n",
    "# import whippot_tools"
   ]
  },
  {
   "cell_type": "markdown",
   "id": "2d42ebc7-1b81-4c7f-b609-e53f5d520473",
   "metadata": {},
   "source": [
    "## An example of a real field\n",
    "\n",
    "The source coordinates below are taken from a real commissioning activity, where we needed to check that the traces wouldn't overlap."
   ]
  },
  {
   "cell_type": "code",
   "execution_count": 4,
   "id": "134e920f-ac22-4d05-baee-eec9942a9e57",
   "metadata": {},
   "outputs": [],
   "source": [
    "# some \n",
    "sources = {\n",
    "    'SCI': whippot_tools.SkyCoord(\"05 24 20.7552 -70 05 1.60\", frame='icrs', unit=(\"hourangle\",\"degree\")),\n",
    "    'a': whippot_tools.SkyCoord(\"05 24 26.33969 -70 05 22.3545\", frame='icrs', unit=(\"hourangle\",\"degree\")),\n",
    "    'b': whippot_tools.SkyCoord(\"05 24 28.67861 -70 05 24.4484\", frame='icrs', unit=(\"hourangle\",\"degree\")),\n",
    "    'c': whippot_tools.SkyCoord(\"05 24 36.22460 -70 05 28.1876\", frame='icrs', unit=(\"hourangle\",\"degree\")),\n",
    "    'd': whippot_tools.SkyCoord(\"05 24 25.608 -70 05 01.66\", frame='icrs', unit=(\"hourangle\",\"degree\")),\n",
    "}"
   ]
  },
  {
   "cell_type": "code",
   "execution_count": 5,
   "id": "12f06f40-60f7-4052-8a19-a530eeef6916",
   "metadata": {},
   "outputs": [
    {
     "name": "stdout",
     "output_type": "stream",
     "text": [
      "SCI: (81.08648, -70.08377777777777)\n",
      "a: (81.10974870833334, -70.08954291666666)\n",
      "b: (81.11949420833332, -70.09012455555555)\n",
      "c: (81.15093583333332, -70.09116322222222)\n",
      "d: (81.1067, -70.08379444444444)\n"
     ]
    }
   ],
   "source": [
    "# format the sources for easy copy-pasting\n",
    "for s, c in sources.items():\n",
    "    print(f\"{s}: ({c.ra.deg}, {c.dec.deg})\")"
   ]
  },
  {
   "cell_type": "code",
   "execution_count": 6,
   "id": "6bac963d-276f-44c9-98f5-de0c6636b248",
   "metadata": {
    "scrolled": true
   },
   "outputs": [],
   "source": [
    "from astropy import units\n",
    "initial_values={\n",
    "    'instr': 'miri',\n",
    "    'sci_aper': 'mirifu_channel1b', \n",
    "    'pa': 290.,\n",
    "    'sci_ra': sources['SCI'].ra.deg, 'sci_dec': sources['SCI'].dec.deg,\n",
    "}\n",
    "# add a multi-line string of the other stars, copied from the cell above\n",
    "initial_values['other_stars'] = \"\\n\".join(f\"{k}: ({v.ra.deg}, {v.dec.deg}\" for k, v in sources.items() if k not in ['SCI'])"
   ]
  },
  {
   "cell_type": "markdown",
   "id": "cd61fb20-46aa-4480-9006-17eef6560b2c",
   "metadata": {},
   "source": [
    "## Use the MRS-specific ComputePositions class\n",
    "\n",
    "The ComputePositions class in `miri_mrs_tools.py` is a subclass of the general `ComputePositions` class that adds LRS-specific overlays to the plots."
   ]
  },
  {
   "cell_type": "code",
   "execution_count": 7,
   "id": "9abf1f63-a637-4923-8edd-5e2daccf231b",
   "metadata": {},
   "outputs": [
    {
     "data": {
      "application/vnd.jupyter.widget-view+json": {
       "model_id": "b579d35cd36e43afb47915d86654f2b8",
       "version_major": 2,
       "version_minor": 0
      },
      "text/plain": [
       "VBox(children=(GridspecLayout(children=(Label(value='IDL COORDINATE AND OFFSET TA CALCULATOR', layout=Layout(d…"
      ]
     },
     "execution_count": 7,
     "metadata": {},
     "output_type": "execute_result"
    }
   ],
   "source": [
    "from whippot.modes import miri_mrs_tools\n",
    "cp1 = miri_mrs_tools.ComputePositions(initial_values=initial_values)\n",
    "cp1.ui"
   ]
  },
  {
   "cell_type": "code",
   "execution_count": null,
   "id": "99a3b141-3dd5-4304-bc27-457b2c2aa798",
   "metadata": {},
   "outputs": [],
   "source": []
  },
  {
   "cell_type": "code",
   "execution_count": null,
   "id": "d80dba90-54e6-4ab0-b8b6-6418f2c8dffe",
   "metadata": {},
   "outputs": [],
   "source": []
  }
 ],
 "metadata": {
  "kernelspec": {
   "display_name": "miri_coro_offsets",
   "language": "python",
   "name": "miri_coro_offsets"
  },
  "language_info": {
   "codemirror_mode": {
    "name": "ipython",
    "version": 3
   },
   "file_extension": ".py",
   "mimetype": "text/x-python",
   "name": "python",
   "nbconvert_exporter": "python",
   "pygments_lexer": "ipython3",
   "version": "3.11.11"
  }
 },
 "nbformat": 4,
 "nbformat_minor": 5
}
