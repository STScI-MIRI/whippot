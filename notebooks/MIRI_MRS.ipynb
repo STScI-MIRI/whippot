{
 "cells": [
  {
   "cell_type": "markdown",
   "id": "75cdef04-8805-485c-9188-735257bfa252",
   "metadata": {},
   "source": [
    "# LRS Slitless trace plotting notebook\n",
    "\n",
    "Author: Jonathan Aguilar (jaguilar@stsci.edu)\n",
    "\n",
    "This notebook visualizes the spectral traces for LRS Slitless observations, for a given orientation of the telescope (this is an early version, so the tools for trace visualization may evolve over time). For a more general introduction to WHIPPOT, see [WHIPPOT_tutorial](WHIPPOT_tutorial).\n",
    "\n",
    "This notebook was originally designed for observations that use target acquisition on one star and then slew to another. LRS Slitless does not need this, so users should use the same coordinates for their ACQ target as for their SCI target. \n",
    "\n",
    "The user provides the RA and Dec coordinates for the target acquisition (ACQ) star and science (SCI) star, and a telescope roll angle. These tools will then compute a) the \"Special Requirement Offset\" X and Y values needed to place the SCI star at the reference position, and b) the final coordinates of the SCI and ACQ stars. Coordinates are given in IDL (https://jwst-docs.stsci.edu/jwst-observatory-hardware/jwst-target-observability-and-observatory-coordinate-system/jwst-instrument-ideal-coordinate-systems#gsc.tab=0).\n",
    "\n",
    "The user can also provide a list of extra targets in the field in the format specified below, and their IDL coordinates will also be computed. As such, this notebook is useful not just for planning target acquisition, but also for predicting to high precision the final positions of astronomical bodies in the field of view.\n",
    "\n",
    "## Setup ##\n",
    "\n",
    "  1. Navigate in a terminal to the directory where you have downloaded the module. This should contain the `setup.py` file.\n",
    "  2. Activate your desired python environment.\n",
    "  3. Run `pip install .` (or `pip install -e.` for developing)\n",
    "  4. Copy this notebook to your working directory, and run your jupyter kernel in the appropriate environment."
   ]
  },
  {
   "cell_type": "code",
   "execution_count": 1,
   "id": "c4bdd04f-4a02-40d3-aa7c-c27d74c616b3",
   "metadata": {},
   "outputs": [],
   "source": [
    "# for development purposes\n",
    "%load_ext autoreload\n",
    "%autoreload 2"
   ]
  },
  {
   "cell_type": "code",
   "execution_count": 2,
   "id": "6b1fafef-6bdf-4db9-81bf-ea0038e23fb2",
   "metadata": {},
   "outputs": [],
   "source": [
    "# for your system, choose an appropriate plotting backend to make pop-up window plots\n",
    "# (currently, inline plots show up in the log but not directly in the notebook).\n",
    "# %matplotlib throws an error if you run it first, so do inline first.\n",
    "%matplotlib inline\n",
    "%matplotlib osx"
   ]
  },
  {
   "cell_type": "code",
   "execution_count": 4,
   "id": "a253e374-69e3-4186-bc15-aa246d78f61f",
   "metadata": {},
   "outputs": [],
   "source": [
    "from whippot import whippot_tools\n",
    "from whippot.modes import miri_mrs_tools\n",
    "# if the library is not installed replace the line above with the line below \n",
    "# when `whippot_tools.py` is in the same folder as the notebook\n",
    "# import whippot_tools"
   ]
  },
  {
   "cell_type": "markdown",
   "id": "2d42ebc7-1b81-4c7f-b609-e53f5d520473",
   "metadata": {},
   "source": [
    "## An example of a real field\n",
    "\n",
    "The source coordinates below are taken from a real commissioning activity, where we needed to check that the traces wouldn't overlap."
   ]
  },
  {
   "cell_type": "code",
   "execution_count": 5,
   "id": "134e920f-ac22-4d05-baee-eec9942a9e57",
   "metadata": {},
   "outputs": [],
   "source": [
    "# some \n",
    "sources = {\n",
    "    'SCI': whippot_tools.SkyCoord(\"05 24 20.7552 -70 05 1.60\", frame='icrs', unit=(\"hourangle\",\"degree\")),\n",
    "    'a': whippot_tools.SkyCoord(\"05 24 26.33969 -70 05 22.3545\", frame='icrs', unit=(\"hourangle\",\"degree\")),\n",
    "    'b': whippot_tools.SkyCoord(\"05 24 28.67861 -70 05 24.4484\", frame='icrs', unit=(\"hourangle\",\"degree\")),\n",
    "    'c': whippot_tools.SkyCoord(\"05 24 36.22460 -70 05 28.1876\", frame='icrs', unit=(\"hourangle\",\"degree\")),\n",
    "    'd': whippot_tools.SkyCoord(\"05 24 25.608 -70 05 01.66\", frame='icrs', unit=(\"hourangle\",\"degree\")),\n",
    "}"
   ]
  },
  {
   "cell_type": "code",
   "execution_count": 6,
   "id": "12f06f40-60f7-4052-8a19-a530eeef6916",
   "metadata": {},
   "outputs": [
    {
     "name": "stdout",
     "output_type": "stream",
     "text": [
      "SCI: (81.08648, -70.08377777777777)\n",
      "a: (81.10974870833334, -70.08954291666666)\n",
      "b: (81.11949420833332, -70.09012455555555)\n",
      "c: (81.15093583333332, -70.09116322222222)\n",
      "d: (81.1067, -70.08379444444444)\n"
     ]
    }
   ],
   "source": [
    "# format the sources for easy copy-pasting\n",
    "for s, c in sources.items():\n",
    "    print(f\"{s}: ({c.ra.deg}, {c.dec.deg})\")"
   ]
  },
  {
   "cell_type": "code",
   "execution_count": 38,
   "id": "6bac963d-276f-44c9-98f5-de0c6636b248",
   "metadata": {
    "scrolled": true
   },
   "outputs": [],
   "source": [
    "from astropy import units\n",
    "initial_values={\n",
    "    'instr': 'miri',\n",
    "    'sci_aper': 'mirifu_channel1a', \n",
    "    'pa': 290.,\n",
    "    'sci_ra': sources['SCI'].ra.deg, 'sci_dec': sources['SCI'].dec.deg,\n",
    "}\n",
    "# add a multi-line string of the other stars, copied from the cell above\n",
    "initial_values['other_stars'] = \"\"\"\n",
    "a: (81.10974870833334, -70.08954291666666)\n",
    "d: (81.1067, -70.08379444444444)\n",
    "\"\"\""
   ]
  },
  {
   "cell_type": "markdown",
   "id": "cd61fb20-46aa-4480-9006-17eef6560b2c",
   "metadata": {},
   "source": [
    "## Use the LRS Slitless-specific ComputePositions class\n",
    "\n",
    "The ComputePositions class in `miri_lrs_slitless` is a subclass of the general `ComputePositions` class that adds LRS-specific overlays to the plots."
   ]
  },
  {
   "cell_type": "code",
   "execution_count": 72,
   "id": "e0305a85-c586-4536-8a6f-05c811e53f81",
   "metadata": {},
   "outputs": [
    {
     "data": {
      "text/plain": [
       "[1, [2, 3]]"
      ]
     },
     "execution_count": 72,
     "metadata": {},
     "output_type": "execute_result"
    }
   ],
   "source": [
    "a = []\n",
    "a.append(1)\n",
    "a\n",
    "a.append([2, 3])\n",
    "a"
   ]
  },
  {
   "cell_type": "code",
   "execution_count": 70,
   "id": "4fca0ee5-cd9b-42c7-ace6-8f5f8e67cbfb",
   "metadata": {},
   "outputs": [
    {
     "data": {
      "text/plain": [
       "{'COMPOUND', 'FULLSCA', 'OSS', 'ROI', 'SLIT', 'SUBARRAY'}"
      ]
     },
     "execution_count": 70,
     "metadata": {},
     "output_type": "execute_result"
    }
   ],
   "source": [
    "set([i.AperType for j, i in cp1.instr.apertures.items()])"
   ]
  },
  {
   "cell_type": "code",
   "execution_count": 99,
   "id": "9abf1f63-a637-4923-8edd-5e2daccf231b",
   "metadata": {},
   "outputs": [
    {
     "data": {
      "application/vnd.jupyter.widget-view+json": {
       "model_id": "154674a1213f497baaff01e398eebbed",
       "version_major": 2,
       "version_minor": 0
      },
      "text/plain": [
       "VBox(children=(GridspecLayout(children=(Label(value='IDL COORDINATE AND OFFSET TA CALCULATOR', layout=Layout(d…"
      ]
     },
     "execution_count": 99,
     "metadata": {},
     "output_type": "execute_result"
    }
   ],
   "source": [
    "# cp1 = miri_mrs_tools.ComputePositions(initial_values=initial_values)\n",
    "cp1 = whippot_tools.ComputePositions(initial_values=initial_values)\n",
    "# fig = cp1.plot_scene()\n",
    "cp1.ui\n"
   ]
  },
  {
   "cell_type": "code",
   "execution_count": 89,
   "id": "e4d09f7e-8843-4e4a-b4bb-1223be72fc10",
   "metadata": {
    "scrolled": true
   },
   "outputs": [
    {
     "data": {
      "text/plain": [
       "'ROI'"
      ]
     },
     "execution_count": 89,
     "metadata": {},
     "output_type": "execute_result"
    }
   ],
   "source": [
    "cp1.aperture.AperType"
   ]
  },
  {
   "cell_type": "code",
   "execution_count": 55,
   "id": "43927c81-533a-4cb0-b222-1572e14a4771",
   "metadata": {},
   "outputs": [],
   "source": [
    "import matplotlib as mpl\n",
    "from matplotlib import pyplot as plt\n",
    "\n",
    "fig, ax = plt.subplots()\n",
    "aper = cp1.instr['MIRIFU_CHANNEL1A']\n",
    "\n",
    "aper.plot(frame='idl', ax=ax)\n",
    "\n",
    "cp1.instr['MIRIFU_1ASLICE01'].plot(frame='idl', ax=ax)"
   ]
  },
  {
   "cell_type": "code",
   "execution_count": 95,
   "id": "549e1048-d602-4f37-b68e-bfd54cd73647",
   "metadata": {},
   "outputs": [
    {
     "data": {
      "text/plain": [
       "\u001b[0;31mSignature:\u001b[0m\n",
       "\u001b[0mc\u001b[0m\u001b[0;34m.\u001b[0m\u001b[0mobserve\u001b[0m\u001b[0;34m(\u001b[0m\u001b[0;34m\u001b[0m\n",
       "\u001b[0;34m\u001b[0m    \u001b[0mhandler\u001b[0m\u001b[0;34m:\u001b[0m \u001b[0;34m't.Callable[..., t.Any]'\u001b[0m\u001b[0;34m,\u001b[0m\u001b[0;34m\u001b[0m\n",
       "\u001b[0;34m\u001b[0m    \u001b[0mnames\u001b[0m\u001b[0;34m:\u001b[0m \u001b[0;34m'Sentinel | str | t.Iterable[Sentinel | str]'\u001b[0m \u001b[0;34m=\u001b[0m \u001b[0mtraitlets\u001b[0m\u001b[0;34m.\u001b[0m\u001b[0mAll\u001b[0m\u001b[0;34m,\u001b[0m\u001b[0;34m\u001b[0m\n",
       "\u001b[0;34m\u001b[0m    \u001b[0mtype\u001b[0m\u001b[0;34m:\u001b[0m \u001b[0;34m'Sentinel | str'\u001b[0m \u001b[0;34m=\u001b[0m \u001b[0;34m'change'\u001b[0m\u001b[0;34m,\u001b[0m\u001b[0;34m\u001b[0m\n",
       "\u001b[0;34m\u001b[0m\u001b[0;34m)\u001b[0m \u001b[0;34m->\u001b[0m \u001b[0;34m'None'\u001b[0m\u001b[0;34m\u001b[0m\u001b[0;34m\u001b[0m\u001b[0m\n",
       "\u001b[0;31mDocstring:\u001b[0m\n",
       "Setup a handler to be called when a trait changes.\n",
       "\n",
       "This is used to setup dynamic notifications of trait changes.\n",
       "\n",
       "Parameters\n",
       "----------\n",
       "handler : callable\n",
       "    A callable that is called when a trait changes. Its\n",
       "    signature should be ``handler(change)``, where ``change`` is a\n",
       "    dictionary. The change dictionary at least holds a 'type' key.\n",
       "    * ``type``: the type of notification.\n",
       "    Other keys may be passed depending on the value of 'type'. In the\n",
       "    case where type is 'change', we also have the following keys:\n",
       "    * ``owner`` : the HasTraits instance\n",
       "    * ``old`` : the old value of the modified trait attribute\n",
       "    * ``new`` : the new value of the modified trait attribute\n",
       "    * ``name`` : the name of the modified trait attribute.\n",
       "names : list, str, All\n",
       "    If names is All, the handler will apply to all traits.  If a list\n",
       "    of str, handler will apply to all names in the list.  If a\n",
       "    str, the handler will apply just to that name.\n",
       "type : str, All (default: 'change')\n",
       "    The type of notification to filter by. If equal to All, then all\n",
       "    notifications are passed to the observe handler.\n",
       "\u001b[0;31mFile:\u001b[0m      ~/Projects/miniconda3/envs/miri_coro_offsets/lib/python3.11/site-packages/traitlets/traitlets.py\n",
       "\u001b[0;31mType:\u001b[0m      method"
      ]
     },
     "metadata": {},
     "output_type": "display_data"
    }
   ],
   "source": [
    "c = whippot_tools.widgets.Checkbox()\n",
    "c.observe?"
   ]
  }
 ],
 "metadata": {
  "kernelspec": {
   "display_name": "miri_coro_offsets",
   "language": "python",
   "name": "miri_coro_offsets"
  },
  "language_info": {
   "codemirror_mode": {
    "name": "ipython",
    "version": 3
   },
   "file_extension": ".py",
   "mimetype": "text/x-python",
   "name": "python",
   "nbconvert_exporter": "python",
   "pygments_lexer": "ipython3",
   "version": "3.11.11"
  }
 },
 "nbformat": 4,
 "nbformat_minor": 5
}
