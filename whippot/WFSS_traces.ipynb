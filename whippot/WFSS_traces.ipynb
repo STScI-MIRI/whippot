{
 "cells": [
  {
   "cell_type": "markdown",
   "id": "75cdef04-8805-485c-9188-735257bfa252",
   "metadata": {},
   "source": [
    "# WFSS trace plotting notebook\n",
    "\n",
    "Author: Jonathan Aguilar (jaguilar@stsci.edu)\n",
    "\n",
    "This notebook visualizes the spectral traces for WFSS observations for a given orientation of the telescope (this is an early version, so the tools for WFSS trace visualization may evolve over time). For a more general introduction to WHIPPOT, see [WHIPPOT_tutorial](WHIPPOT_tutorial).\n",
    "\n",
    "This notebook was originally designed for observations that use target acquisition on one star and then slew to another. WFSS does not do this, so users should use the same coordinates for their ACQ target as for their SCI target. \n",
    "\n",
    "The user provides the RA and Dec coordinates for the target acquisition (ACQ) star and science (SCI) star, and a telescope roll angle. These tools will then compute a) the \"Special Requirment Offset\" X and Y values needed to place the SCI star at the reference position, and b) the final coordinates of the SCI and ACQ stars. Coordinates are given in IDL (https://jwst-docs.stsci.edu/jwst-observatory-hardware/jwst-target-observability-and-observatory-coordinate-system/jwst-instrument-ideal-coordinate-systems#gsc.tab=0).\n",
    "\n",
    "The user can also provide a list of extra targets in the field in the format specified below, and their IDL coordinates will also be computed. As such, this notebook is useful not just for planning target acquisition, but also for predicting to high precision the final positions of astronomical bodies in the field of view.\n",
    "\n",
    "## Setup ##\n",
    "\n",
    "- With installing the module:\n",
    "  1. Navigate in a terminal to the directory where you have downloaded the module. This should contain the `setup.py` file.\n",
    "  2. Activate your desired python environment.\n",
    "  3. Run `pip install .`\n",
    "  4. Copy this notebook to your working directory, and run your jupyter kernel in the appropriate environment.\n",
    "- Without installing the module:\n",
    "  1. Copy this notebook and `utils.py` to your working directory.\n",
    "  2. In the cell below, change `from all_jwst_offset_ta import utils` to `import utils`\n",
    "  3. Open the notebook as you normally would. The following python modules must be installed in the working enviroment:\n",
    "     -  `ipywidgets`\n",
    "     - `numpy`\n",
    "     - `matplotlib`\n",
    "     - `astropy`\n",
    "     - `pysiaf`"
   ]
  },
  {
   "cell_type": "code",
   "execution_count": null,
   "id": "c4bdd04f-4a02-40d3-aa7c-c27d74c616b3",
   "metadata": {},
   "outputs": [],
   "source": [
    "# for development purposes\n",
    "%load_ext autoreload\n",
    "%autoreload 2"
   ]
  },
  {
   "cell_type": "code",
   "execution_count": null,
   "id": "6b1fafef-6bdf-4db9-81bf-ea0038e23fb2",
   "metadata": {},
   "outputs": [],
   "source": [
    "# for your system, choose an appropriate plotting backend to make pop-up window plots. \n",
    "# Currently, inline plots do not work.\n",
    "%matplotlib osx"
   ]
  },
  {
   "cell_type": "code",
   "execution_count": null,
   "id": "a253e374-69e3-4186-bc15-aa246d78f61f",
   "metadata": {},
   "outputs": [],
   "source": [
    "from whippot import whippot_tools\n",
    "# if the library is not installed replace the line above with the line below \n",
    "# when `whippot_tools.py` is in the same folder as the notebook\n",
    "# import whippot_tools"
   ]
  },
  {
   "cell_type": "markdown",
   "id": "2d42ebc7-1b81-4c7f-b609-e53f5d520473",
   "metadata": {},
   "source": [
    "## An example of a real field\n",
    "\n",
    "The source coordinates below are taken from a real commissioning activity, where we needed to check that the traces wouldn't overlap."
   ]
  },
  {
   "cell_type": "code",
   "execution_count": null,
   "id": "134e920f-ac22-4d05-baee-eec9942a9e57",
   "metadata": {},
   "outputs": [],
   "source": [
    "# some \n",
    "sources = {\n",
    "    'SCI': whippot_tools.SkyCoord(\"05 24 20.7552 -70 05 1.60\", frame='icrs', unit=(\"hourangle\",\"degree\")),\n",
    "    'a': whippot_tools.SkyCoord(\"05 24 26.33969 -70 05 22.3545\", frame='icrs', unit=(\"hourangle\",\"degree\")),\n",
    "    'b': whippot_tools.SkyCoord(\"05 24 28.67861 -70 05 24.4484\", frame='icrs', unit=(\"hourangle\",\"degree\")),\n",
    "    'c': whippot_tools.SkyCoord(\"05 24 36.22460 -70 05 28.1876\", frame='icrs', unit=(\"hourangle\",\"degree\")),\n",
    "    'd': whippot_tools.SkyCoord(\"05 24 25.608 -70 05 01.66\", frame='icrs', unit=(\"hourangle\",\"degree\")),\n",
    "}"
   ]
  },
  {
   "cell_type": "code",
   "execution_count": null,
   "id": "12f06f40-60f7-4052-8a19-a530eeef6916",
   "metadata": {},
   "outputs": [],
   "source": [
    "# format the sources for easy copy-pasting\n",
    "for s, c in sources.items():\n",
    "    print(f\"{s}: ({c.ra.deg}, {c.dec.deg})\")"
   ]
  },
  {
   "cell_type": "code",
   "execution_count": null,
   "id": "6bac963d-276f-44c9-98f5-de0c6636b248",
   "metadata": {
    "scrolled": true
   },
   "outputs": [],
   "source": [
    "from astropy import units\n",
    "initial_values={\n",
    "    'instr': 'miri',\n",
    "    'sci_aper': 'mirim_illum', \n",
    "    'pa': 290.,\n",
    "    'sci_ra': sources['SCI'].ra.deg, 'sci_dec': sources['SCI'].dec.deg,\n",
    "}\n",
    "# add a multi-line string of the other stars, copied from the cell above\n",
    "initial_values['other_stars'] = \"\"\"\n",
    "a: (81.10974870833334, -70.08954291666666)\n",
    "b: (81.11949420833332, -70.09012455555555)\n",
    "c: (81.15093583333332, -70.09116322222222)\n",
    "d: (81.1067, -70.08379444444444)\n",
    "\"\"\""
   ]
  },
  {
   "cell_type": "code",
   "execution_count": null,
   "id": "9abf1f63-a637-4923-8edd-5e2daccf231b",
   "metadata": {},
   "outputs": [],
   "source": [
    "cp1 = whippot_tools.ComputePositions(initial_values=initial_values)\n",
    "cp1.ui"
   ]
  },
  {
   "cell_type": "markdown",
   "id": "bb0fe84f-3d29-4573-8641-b1299cd248e1",
   "metadata": {},
   "source": [
    "## Plot WFSS traces\n",
    "\n",
    "To plot the WFSS traces, use the miri_wfss_plots library."
   ]
  },
  {
   "cell_type": "code",
   "execution_count": null,
   "id": "06a54706-9987-4c55-a650-c14a1b91c53a",
   "metadata": {},
   "outputs": [],
   "source": [
    "from whippot import miri_wfss_plots\n",
    "\n",
    "coords_to_plot = cp1.idl_coords_after_slew.copy()\n",
    "# remove the ACQ star from the plot\n",
    "coords_to_plot.pop(\"ACQ\")\n",
    "\n",
    "fig = miri_wfss_plots.plot_wfss_traces(\n",
    "    coords_to_plot, \n",
    "    aper = cp1.get_aper(),\n",
    "    title=f\"PA = {cp1._initial_values['pa']}\",\n",
    ")"
   ]
  },
  {
   "cell_type": "code",
   "execution_count": null,
   "id": "3eebb752-97a6-41cd-b6eb-c46f59978c1c",
   "metadata": {},
   "outputs": [],
   "source": []
  }
 ],
 "metadata": {
  "kernelspec": {
   "display_name": "miri_coro_offsets",
   "language": "python",
   "name": "miri_coro_offsets"
  },
  "language_info": {
   "codemirror_mode": {
    "name": "ipython",
    "version": 3
   },
   "file_extension": ".py",
   "mimetype": "text/x-python",
   "name": "python",
   "nbconvert_exporter": "python",
   "pygments_lexer": "ipython3",
   "version": "3.11.11"
  }
 },
 "nbformat": 4,
 "nbformat_minor": 5
}
