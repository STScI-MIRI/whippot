{
 "cells": [
  {
   "cell_type": "markdown",
   "id": "75cdef04-8805-485c-9188-735257bfa252",
   "metadata": {},
   "source": [
    "# WHIPPOT Tutorial\n",
    "\n",
    "Author: Jonathan Aguilar (jaguilar@stsci.edu)\n",
    "\n",
    "This notebook provides a general user interface for doing TA in some some target, and then placing some other target on the reference position of some other aperture. The user provides the RA and Dec coordinates for the target acquisition (ACQ) star and science (SCI) star, and a telescope roll angle. These tools will then compute a) the \"Special Requirment Offset\" X and Y values needed to place the SCI star at the reference position, and b) the final coordinates of the SCI and ACQ stars. Coordinates are given in IDL (https://jwst-docs.stsci.edu/jwst-observatory-hardware/jwst-target-observability-and-observatory-coordinate-system/jwst-instrument-ideal-coordinate-systems#gsc.tab=0).\n",
    "\n",
    "The user can also provide a list of extra targets in the field in the format specified below, and their IDL coordinates will also be computed. As such, this notebook is useful not just for planning target acquisition, but also for predicting to high precision the final positions of astronomical bodies in the field of view.\n",
    "\n",
    "## Setup ##\n",
    "\n",
    "- With installing the module:\n",
    "  1. Navigate in a terminal to the directory where you have downloaded the module. This should contain the `setup.py` file.\n",
    "  2. Activate your desired python environment.\n",
    "  3. Run `pip install .`\n",
    "  4. Copy this notebook to your working directory, and run your jupyter kernel in the appropriate environment.\n",
    "- Without installing the module:\n",
    "  1. Copy this notebook and `whippot_tools.py` to your working directory.\n",
    "  2. In the cell below, change `from whippot import whippot_tools` to `import whippot_tools`\n",
    "  3. Open the notebook as you normally would. The following python modules must be installed in the working enviroment:\n",
    "     -  `ipywidgets`\n",
    "     - `numpy`\n",
    "     - `matplotlib`\n",
    "     - `astropy`\n",
    "     - `pysiaf`\n"
   ]
  },
  {
   "cell_type": "code",
   "execution_count": 1,
   "id": "c4bdd04f-4a02-40d3-aa7c-c27d74c616b3",
   "metadata": {},
   "outputs": [],
   "source": [
    "# for development purposes\n",
    "%load_ext autoreload\n",
    "%autoreload 2"
   ]
  },
  {
   "cell_type": "code",
   "execution_count": 2,
   "id": "6b1fafef-6bdf-4db9-81bf-ea0038e23fb2",
   "metadata": {},
   "outputs": [],
   "source": [
    "# for your system, choose an appropriate plotting backend to make pop-up window plots\n",
    "# (currently, inline plots show up in the log but not directly in the notebook).\n",
    "# %matplotlib throws an error if you run it first, so do inline first.\n",
    "%matplotlib inline\n",
    "%matplotlib osx"
   ]
  },
  {
   "cell_type": "code",
   "execution_count": 3,
   "id": "a253e374-69e3-4186-bc15-aa246d78f61f",
   "metadata": {},
   "outputs": [
    {
     "name": "stderr",
     "output_type": "stream",
     "text": [
      "**WARNING**: LOCAL JWST PRD VERSION PRDOPSSOC-068 DOESN'T MATCH THE CURRENT ONLINE VERSION PRDOPSSOC-071\n",
      "Please consider updating pysiaf, e.g. pip install --upgrade pysiaf or conda update pysiaf\n"
     ]
    }
   ],
   "source": [
    "from whippot import whippot_tools"
   ]
  },
  {
   "cell_type": "markdown",
   "id": "1e0a70bb-43f2-4e35-9c6a-76ab0666120b",
   "metadata": {},
   "source": [
    "## Usage\n",
    "\n",
    "1. Run the cell below, which will generate an interactive widget in the output space.\n",
    "2. Select your instrument and science aperture from the drop-down menus.\n",
    "   - An \"aperture\" is a region of the telescope that can be used for pointing. This terminology is adapted from the Science Instrument Aperture File (SIAF)\n",
    "     - This technical report is a useful, if incomplete, reference: https://www.stsci.edu/files/live/sites/www/files/home/jwst/documentation/technical-documents/_documents/JWST-STScI-007030.pdf\n",
    "   - The science aperture names can be a bit opaque, but you should be able to guess which one corresponds to your observation.\n",
    "   - If you have access to data that uses the subarray of interest, you can check the header for the \"APERNAME\" there and match it.\n",
    "   - ¡¡Warning!! There are *many* choices for apertures and their names can be opaque. If in doubt, speak with someone familiar with your instrument and the SIAF.\n",
    "4. Enter the RA and Dec coordinates of your acquisition and science targets.\n",
    "   - the frame must be 'ICRS'\n",
    "   - the units must be in decimal degrees\n",
    "5. Enter the PA angle of the V3 axis of the telescope at the instrument reference point.\n",
    "   - In APT, this corresponds to the \"Specify PA range using V3PA\" option under Special Requirements.\n",
    "   - This angle is given in data headers as \"ROLL_REF\"\n",
    "6. If you wish to know the positions of other stars in the field of view, you can enter them in the \"Other stars\" box\n",
    "   - The format is `label: (ra, dec)` where `ra` and `dec` are given in decimal degrees\n",
    "   - There is currently no error checking for formatting; you will just make it crash/get a wrong answer\n",
    "   - For multi-line entries, you may need to type them elsewhere and they copy-paste the list into the box\n",
    "7. Press \"Compute offset\" to get the offsets to enter into APT (you may need to press it twice).\n",
    "   - You will also get the positions in IDL coordinates of all the stars before and after the slew.\n",
    "   - For same-target TA, a hack is to enter the same position for the ACQ and SCI target. In the examples below that use an initialization dictionary, omitting `acq_ra` and `acq_dec` fields will cause this to be done automatically.\n"
   ]
  },
  {
   "cell_type": "markdown",
   "id": "eefc27e5-0d9c-4815-ac74-7f5f17beac9f",
   "metadata": {},
   "source": [
    "## Initialization with default values"
   ]
  },
  {
   "cell_type": "markdown",
   "id": "835f5350-dff3-453c-a6df-5ac7d335240d",
   "metadata": {},
   "source": [
    "Copy the lines below and paste them into the `Other stars` box, as an example:\n",
    "```\n",
    "a: (0.001, 0.002)\n",
    "b: (0.002, 0.003)\n",
    "c: (0.003, 0.004)\n",
    "```"
   ]
  },
  {
   "cell_type": "code",
   "execution_count": 4,
   "id": "c61c9ced-d1b2-4b70-83f3-b4e304fa0a28",
   "metadata": {},
   "outputs": [
    {
     "data": {
      "application/vnd.jupyter.widget-view+json": {
       "model_id": "5add5561e4664833a6f1b09a410c5221",
       "version_major": 2,
       "version_minor": 0
      },
      "text/plain": [
       "VBox(children=(GridspecLayout(children=(Label(value='IDL COORDINATE AND OFFSET TA CALCULATOR', layout=Layout(d…"
      ]
     },
     "execution_count": 4,
     "metadata": {},
     "output_type": "execute_result"
    }
   ],
   "source": [
    "# create the ComputeOffsets object and start the UI with default initialization.\n",
    "cp1 = whippot_tools.ComputePositions()\n",
    "# to display the user interface, just do this:\n",
    "cp1.ui\n",
    "# Note: the footprint tools don't do a good job handling apertures that span RA = 0"
   ]
  },
  {
   "cell_type": "markdown",
   "id": "04a0965f-4e0c-4aa9-9858-3fe97073c3b7",
   "metadata": {},
   "source": [
    "You can also access the IDL coordinates from the object to use them programatically:"
   ]
  },
  {
   "cell_type": "code",
   "execution_count": 5,
   "id": "500d1803-47e8-44d9-915b-fd5c847e5ddf",
   "metadata": {},
   "outputs": [
    {
     "data": {
      "text/plain": [
       "{'ACQ': array([-2.84203838e-14,  2.74500713e-16]),\n",
       " 'SCI': array([-2.84203838e-14,  2.74500713e-16]),\n",
       " 'a': array([3.66938212, 7.16489487]),\n",
       " 'b': array([ 7.30399463, 10.72995781]),\n",
       " 'c': array([10.93860682, 14.29502091])}"
      ]
     },
     "execution_count": 5,
     "metadata": {},
     "output_type": "execute_result"
    }
   ],
   "source": [
    "# This dictionary stores the coordinates *after* TA but *before* the slew to the reference position\n",
    "cp1.idl_coords_after_ta"
   ]
  },
  {
   "cell_type": "code",
   "execution_count": 6,
   "id": "cfff4542-f2a3-49f9-896f-bfe94c046bd2",
   "metadata": {},
   "outputs": [
    {
     "data": {
      "text/plain": [
       "{'ACQ': array([0., 0.]),\n",
       " 'SCI': array([0., 0.]),\n",
       " 'a': array([3.66938212, 7.16489487]),\n",
       " 'b': array([ 7.30399463, 10.72995781]),\n",
       " 'c': array([10.93860682, 14.29502091])}"
      ]
     },
     "execution_count": 6,
     "metadata": {},
     "output_type": "execute_result"
    }
   ],
   "source": [
    "# This dictionary stores the coordinates *after* the slew to the reference position\n",
    "cp1.idl_coords_after_slew"
   ]
  },
  {
   "cell_type": "markdown",
   "id": "4ebab1eb-2445-4675-8bed-501f103fd552",
   "metadata": {},
   "source": [
    "## Initialization from a configuration dictionary\n",
    "\n",
    "Alternatively, one can provide a dictionary to pre-populate the fields of the interface. This is useful for repeatability/record keeping purposes. A non-empty dictionary will automatically trigger the output calculations, filling in default values for missing entries.\n",
    "\n",
    "As an example, let's use MIRI's 15.5 um coronagraph to do TA on a star at (90, 45) and then slew to another star that is (50 arcsec, 50 arcsec) away, with the telescope oriented at a V3_PA angle of 180 deg. There are two other stars of interest, labeled a and b, located at separations (-10 arcsec, +10 arcsec), and (+10 arcsec, -10 arcsec), respectively, from the SCI star"
   ]
  },
  {
   "cell_type": "markdown",
   "id": "89911de7-d5e7-407e-98fe-89e221954b96",
   "metadata": {},
   "source": [
    "**<span style=\"color:red\">WARNING</span>**: for each set of calculations, create a new \"ComputeOffsets\" object. Calling the same UI object again changes its values globally."
   ]
  },
  {
   "cell_type": "code",
   "execution_count": 7,
   "id": "1a4fa50c-d4ce-4bf1-b219-6f57bc8b8fd1",
   "metadata": {
    "scrolled": true
   },
   "outputs": [],
   "source": [
    "from astropy import units\n",
    "ACQ_pos = (90.0, 45)\n",
    "# the SCI target is ~(50, 50) arcsec away (50 arcsec -> 0.0139 deg)\n",
    "SCI_pos = (90 + 0.014, 45 + 0.014)\n",
    "# the field stars are ~(-10, +10) and (+10, -10) arcsec away from the SCI star (10 arcsec -> 0.0028 deg)\n",
    "a_pos = (SCI_pos[0] - 0.003, SCI_pos[1] + 0.003)\n",
    "b_pos = (SCI_pos[0] + 0.003, SCI_pos[1] - 0.003)\n",
    "\n",
    "# populate the initialization dict with these values\n",
    "\n",
    "initial_values={\n",
    "    'instr': 'miri',\n",
    "    'sci_aper': 'mirim_mask1550', \n",
    "    'pa': 180.,\n",
    "    'acq_ra': ACQ_pos[0], 'acq_dec': ACQ_pos[1],\n",
    "    'sci_ra': SCI_pos[0], 'sci_dec': SCI_pos[1]\n",
    "}\n",
    "# add a multi-line string of the other stars\n",
    "initial_values['other_stars'] = f\"\"\"\n",
    "a: ({a_pos[0]}, {a_pos[1]})\n",
    "b: ({b_pos[0]}, {b_pos[1]})\n",
    "\"\"\""
   ]
  },
  {
   "cell_type": "code",
   "execution_count": 8,
   "id": "f2ed2038-32cf-4101-9d95-aefe3ed6078c",
   "metadata": {},
   "outputs": [
    {
     "data": {
      "application/vnd.jupyter.widget-view+json": {
       "model_id": "a4a2bdb708cf438898e788f62a04cf68",
       "version_major": 2,
       "version_minor": 0
      },
      "text/plain": [
       "VBox(children=(GridspecLayout(children=(Label(value='IDL COORDINATE AND OFFSET TA CALCULATOR', layout=Layout(d…"
      ]
     },
     "execution_count": 8,
     "metadata": {},
     "output_type": "execute_result"
    }
   ],
   "source": [
    "cp2 = whippot_tools.ComputePositions(initial_values=initial_values)\n",
    "cp2.ui"
   ]
  },
  {
   "cell_type": "markdown",
   "id": "d7aa54f9-b7f7-4fca-8692-4848c3943d78",
   "metadata": {},
   "source": [
    "# Placing your target at the position of another star in the field\n",
    "\n",
    "This is useful for the case where you need to generate an off-axis reference PSF for a star in the field of view. Compute the IDL position of the star in the science scene, and the *negative* of that star's IDL positition to the `Offset X` and `Offset Y` values. For example, to place the target at the position of star `a = (-11.3071, -10.2835)`, you would enter the following Offset X and Y values.\n",
    "\n",
    "In the example below, we enter the `a` star's IDL position to the \"Final IDL X/Y\" fields, leaving everything else the same. This is equivalent to saying, \"At the end of all the TA, I want `a` to be at these coordinates.\". The \"Offset X/Y\" output will give the offsets required to place the target star at the position of `a`, which you will see in the confirmation plot."
   ]
  },
  {
   "cell_type": "code",
   "execution_count": 9,
   "id": "0aabcd0b-95da-4002-86e0-3b0395a6b92d",
   "metadata": {},
   "outputs": [
    {
     "data": {
      "application/vnd.jupyter.widget-view+json": {
       "model_id": "0ed5875224984ccea8f47145c5806302",
       "version_major": 2,
       "version_minor": 0
      },
      "text/plain": [
       "VBox(children=(GridspecLayout(children=(Label(value='IDL COORDINATE AND OFFSET TA CALCULATOR', layout=Layout(d…"
      ]
     },
     "execution_count": 9,
     "metadata": {},
     "output_type": "execute_result"
    }
   ],
   "source": [
    "# first, update the initialization dict with the offsets\n",
    "with_offset = {\n",
    "    'final_idl_x': cp2.idl_coords_after_slew['a'][0],\n",
    "    'final_idl_y': cp2.idl_coords_after_slew['a'][1]\n",
    "}\n",
    "# copy over the rest of the initial_values dictionary to the with_offset dictionary\n",
    "with_offset.update(initial_values)\n",
    "\n",
    "cp3 = whippot_tools.ComputePositions(initial_values=with_offset)\n",
    "cp3.ui"
   ]
  },
  {
   "cell_type": "markdown",
   "id": "353bb739-82eb-4c11-94d4-e1aba9fc323c",
   "metadata": {},
   "source": [
    "Compare the positions of the scene before and after the extra slew. You can see that the SCI target is now where 'a' was."
   ]
  },
  {
   "cell_type": "code",
   "execution_count": 11,
   "id": "68087dcb-70c7-4b4c-8e19-efa815224344",
   "metadata": {},
   "outputs": [
    {
     "data": {
      "text/plain": [
       "<matplotlib.legend.Legend at 0x12f40a790>"
      ]
     },
     "execution_count": 11,
     "metadata": {},
     "output_type": "execute_result"
    }
   ],
   "source": [
    "fig, ax = whippot_tools.plt.subplots(1, 1)\n",
    "ax.set_title(\"Placing SCI where A used to be\")\n",
    "ax.scatter([],[], marker='x', c='k', label='Before')\n",
    "ax.scatter([],[], marker='+', c='k', s=100, label='After')\n",
    "for star in cp2.idl_coords_after_slew.keys():\n",
    "    l = ax.scatter(\n",
    "        *cp2.idl_coords_after_slew[star],\n",
    "        marker='x', label=star,\n",
    "        zorder=-1\n",
    "    )\n",
    "    ax.scatter(\n",
    "        *cp3.idl_coords_after_slew[star],\n",
    "        marker='+', facecolor=l.get_facecolor(),\n",
    "        zorder=1, s=100,\n",
    "    )\n",
    "cp3.get_aper().plot(ax=ax, frame='idl', mark_ref=True, c='gray', fill=False)\n",
    "ax.legend()"
   ]
  },
  {
   "cell_type": "markdown",
   "id": "9ba2e5d0-bd03-43aa-9f2c-fc196eaa37cc",
   "metadata": {},
   "source": [
    "## Extending functionality\n",
    "\n",
    "In `miri_coron_tools.py`, we have extended the scene plots to show the 4QPM quadrant boundaries as well as the Lyot mask."
   ]
  },
  {
   "cell_type": "code",
   "execution_count": 12,
   "id": "9f666191-7e25-4967-bcd0-9c416d2a66c1",
   "metadata": {},
   "outputs": [],
   "source": [
    "from whippot import miri_coron_tools as mct"
   ]
  },
  {
   "cell_type": "code",
   "execution_count": 13,
   "id": "cfd18f32-7d56-45cb-ae71-8d537c9e3b0c",
   "metadata": {},
   "outputs": [],
   "source": [
    "fig = mct.plot_scene(cp3)"
   ]
  },
  {
   "cell_type": "markdown",
   "id": "f0b05f9d-b86e-4734-8243-64154513e60e",
   "metadata": {},
   "source": [
    "You can also define your own class that overrides the scene-plotting function, and use that for all your calculations. "
   ]
  },
  {
   "cell_type": "code",
   "execution_count": 14,
   "id": "749a160b-e341-442b-aa7f-f0636bcd661a",
   "metadata": {},
   "outputs": [
    {
     "data": {
      "application/vnd.jupyter.widget-view+json": {
       "model_id": "2355d2c76818460ea36e18905a7ee29f",
       "version_major": 2,
       "version_minor": 0
      },
      "text/plain": [
       "VBox(children=(GridspecLayout(children=(Label(value='IDL COORDINATE AND OFFSET TA CALCULATOR', layout=Layout(d…"
      ]
     },
     "execution_count": 14,
     "metadata": {},
     "output_type": "execute_result"
    }
   ],
   "source": [
    "cp4 = mct.ComputePositions(initial_values=with_offset)\n",
    "cp4.ui"
   ]
  },
  {
   "cell_type": "markdown",
   "id": "09c52558-bf30-4552-8d01-551c9c312885",
   "metadata": {},
   "source": [
    "Notice how we use the ComputePositions() class defined in `miri_coron_tools`, not `whippot_tools`."
   ]
  },
  {
   "cell_type": "code",
   "execution_count": null,
   "id": "1520eada-1915-4272-8dcf-1542f3efac66",
   "metadata": {},
   "outputs": [],
   "source": []
  }
 ],
 "metadata": {
  "kernelspec": {
   "display_name": "Python [conda env:miri_coro_offsets]",
   "language": "python",
   "name": "conda-env-miri_coro_offsets-py"
  },
  "language_info": {
   "codemirror_mode": {
    "name": "ipython",
    "version": 3
   },
   "file_extension": ".py",
   "mimetype": "text/x-python",
   "name": "python",
   "nbconvert_exporter": "python",
   "pygments_lexer": "ipython3",
   "version": "3.11.11"
  }
 },
 "nbformat": 4,
 "nbformat_minor": 5
}
